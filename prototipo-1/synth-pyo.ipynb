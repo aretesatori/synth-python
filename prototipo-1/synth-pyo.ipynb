{
 "cells": [
  {
   "cell_type": "code",
   "execution_count": 1,
   "metadata": {},
   "outputs": [
    {
     "ename": "",
     "evalue": "",
     "output_type": "error",
     "traceback": [
      "\u001b[1;31mThe Kernel crashed while executing code in the current cell or a previous cell. \n",
      "\u001b[1;31mPlease review the code in the cell(s) to identify a possible cause of the failure. \n",
      "\u001b[1;31mClick <a href='https://aka.ms/vscodeJupyterKernelCrash'>here</a> for more info. \n",
      "\u001b[1;31mView Jupyter <a href='command:jupyter.viewOutput'>log</a> for further details."
     ]
    }
   ],
   "source": [
    "from pyo import *\n",
    "\n",
    "s = Server().boot()\n",
    "\n",
    "s.amp = 0.1\n",
    "\n",
    "a = FM().out()\n",
    "b = FM().out(1)\n",
    "\n",
    "a.ctrl(title=\"FM left\")\n",
    "b.ctrl(title=\"Fm right\")\n",
    "\n",
    "oscs = Sine([100, 200, 300, 400, 500, 600, 700, 800], mul = 0.1)\n",
    "\n",
    "s.gui(locals())\n"
   ]
  }
 ],
 "metadata": {
  "kernelspec": {
   "display_name": "Python 3",
   "language": "python",
   "name": "python3"
  },
  "language_info": {
   "codemirror_mode": {
    "name": "ipython",
    "version": 3
   },
   "file_extension": ".py",
   "mimetype": "text/x-python",
   "name": "python",
   "nbconvert_exporter": "python",
   "pygments_lexer": "ipython3",
   "version": "3.11.10"
  }
 },
 "nbformat": 4,
 "nbformat_minor": 2
}
